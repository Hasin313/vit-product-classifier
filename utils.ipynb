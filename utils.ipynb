{
 "cells": [
  {
   "cell_type": "code",
   "execution_count": 2,
   "id": "2a24753b",
   "metadata": {},
   "outputs": [],
   "source": [
    "from sklearn.model_selection import train_test_split\n",
    "import os, shutil, glob\n",
    "\n",
    "def split_dataset(base_dir, output_dir, test_size=0.15, val_size=0.15):\n",
    "    os.makedirs(output_dir, exist_ok=True)\n",
    "    classes = os.listdir(base_dir)\n",
    "\n",
    "    for cls in classes:\n",
    "        imgs = glob.glob(os.path.join(base_dir, cls, \"*.jpg\")) + \\\n",
    "               glob.glob(os.path.join(base_dir, cls, \"*.jpeg\")) + \\\n",
    "               glob.glob(os.path.join(base_dir, cls, \"*.png\"))\n",
    "\n",
    "        train_val, test = train_test_split(imgs, test_size=test_size, random_state=42)\n",
    "        train, val = train_test_split(train_val, test_size=val_size / (1 - test_size), random_state=42)\n",
    "\n",
    "        for split_name, split_data in zip(['train', 'val', 'test'], [train, val, test]):\n",
    "            split_folder = os.path.join(output_dir, split_name, cls)\n",
    "            os.makedirs(split_folder, exist_ok=True)\n",
    "            for img_path in split_data:\n",
    "                shutil.copy(img_path, os.path.join(split_folder, os.path.basename(img_path)))\n",
    "\n",
    "split_dataset(\"data/raw\", \"data/split\")"
   ]
  },
  {
   "cell_type": "code",
   "execution_count": 1,
   "id": "6e7c7ccc",
   "metadata": {},
   "outputs": [
    {
     "name": "stdout",
     "output_type": "stream",
     "text": [
      "CUDA Available: True\n",
      "Device Count: 1\n",
      "Current Device: 0\n",
      "Device Name: NVIDIA GeForce RTX 3050 6GB Laptop GPU\n"
     ]
    }
   ],
   "source": [
    "import torch\n",
    "\n",
    "print(\"CUDA Available:\", torch.cuda.is_available())\n",
    "print(\"Device Count:\", torch.cuda.device_count())\n",
    "print(\"Current Device:\", torch.cuda.current_device())\n",
    "print(\"Device Name:\", torch.cuda.get_device_name(0))\n"
   ]
  }
 ],
 "metadata": {
  "kernelspec": {
   "display_name": "venv310",
   "language": "python",
   "name": "python3"
  },
  "language_info": {
   "codemirror_mode": {
    "name": "ipython",
    "version": 3
   },
   "file_extension": ".py",
   "mimetype": "text/x-python",
   "name": "python",
   "nbconvert_exporter": "python",
   "pygments_lexer": "ipython3",
   "version": "3.10.11"
  }
 },
 "nbformat": 4,
 "nbformat_minor": 5
}
